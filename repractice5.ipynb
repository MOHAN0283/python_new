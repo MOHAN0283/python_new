{
  "nbformat": 4,
  "nbformat_minor": 0,
  "metadata": {
    "colab": {
      "name": "reprac5.ipynb",
      "provenance": [],
      "authorship_tag": "ABX9TyO1hKP1mdOFZH/w724HxiWT",
      "include_colab_link": true
    },
    "kernelspec": {
      "name": "python3",
      "display_name": "Python 3"
    },
    "language_info": {
      "name": "python"
    }
  },
  "cells": [
    {
      "cell_type": "markdown",
      "metadata": {
        "id": "view-in-github",
        "colab_type": "text"
      },
      "source": [
        "<a href=\"https://colab.research.google.com/github/MOHAN0283/python_new/blob/module_5/repractice5.ipynb\" target=\"_parent\"><img src=\"https://colab.research.google.com/assets/colab-badge.svg\" alt=\"Open In Colab\"/></a>"
      ]
    },
    {
      "cell_type": "code",
      "execution_count": null,
      "metadata": {
        "colab": {
          "base_uri": "https://localhost:8080/"
        },
        "id": "Z5PKIxFps5AR",
        "outputId": "67188a05-0ef0-4901-8544-f6a3a3dfbdf8"
      },
      "outputs": [
        {
          "output_type": "stream",
          "name": "stdout",
          "text": [
            "asd\n",
            "<re.Match object; span=(0, 3), match='asd'>\n"
          ]
        }
      ],
      "source": [
        "import re\n",
        "a='^[a-zA-Z0-9_ ]*$'\n",
        "b=str(input())\n",
        "c=re.match(a,b)\n",
        "print(c)"
      ]
    },
    {
      "cell_type": "code",
      "source": [
        "import re\n",
        "# a='a(bbb)'\n",
        "a='ab{3}?'\n",
        "b=str(input())\n",
        "c=re.search(a,b)\n",
        "print(c)"
      ],
      "metadata": {
        "colab": {
          "base_uri": "https://localhost:8080/"
        },
        "id": "hWYfZhBGxs2_",
        "outputId": "d45e683a-8a5b-4d94-e982-335a1d84701d"
      },
      "execution_count": null,
      "outputs": [
        {
          "output_type": "stream",
          "name": "stdout",
          "text": [
            "abbbcbbab\n",
            "<re.Match object; span=(0, 4), match='abbb'>\n"
          ]
        }
      ]
    },
    {
      "cell_type": "code",
      "source": [
        "import re\n",
        "a=re.compile(r'[a-zA-Z-_ ]')\n",
        "b=str(input())\n",
        "c=a.search(b)\n",
        "print(bool(c))"
      ],
      "metadata": {
        "colab": {
          "base_uri": "https://localhost:8080/"
        },
        "id": "esMro1qstEJs",
        "outputId": "fcbec228-5c52-49ab-b1de-f01fd72f15fe"
      },
      "execution_count": null,
      "outputs": [
        {
          "output_type": "stream",
          "name": "stdout",
          "text": [
            "1/\n",
            "False\n"
          ]
        }
      ]
    },
    {
      "cell_type": "code",
      "source": [
        "import re\n",
        "a='^[a-z](1*|2*|3*)$'\n",
        "b=str(input())\n",
        "c=re.search(a,b)\n",
        "print(bool(c))"
      ],
      "metadata": {
        "colab": {
          "base_uri": "https://localhost:8080/"
        },
        "id": "zXu1tz70t-RY",
        "outputId": "0f874787-b9da-4e1f-ccc8-e356c444b499"
      },
      "execution_count": null,
      "outputs": [
        {
          "output_type": "stream",
          "name": "stdout",
          "text": [
            "jkl\n",
            "False\n"
          ]
        }
      ]
    },
    {
      "cell_type": "code",
      "source": [
        "import re\n",
        "a='^[a-z_]*$'\n",
        "b=str(input())\n",
        "c=re.search(a,b)\n",
        "print(bool(c))"
      ],
      "metadata": {
        "colab": {
          "base_uri": "https://localhost:8080/"
        },
        "id": "PVMTTBBPvVBL",
        "outputId": "96d8881e-db6c-436c-d433-948aca3ff965"
      },
      "execution_count": null,
      "outputs": [
        {
          "output_type": "stream",
          "name": "stdout",
          "text": [
            "aa_bb_cc\n",
            "True\n"
          ]
        }
      ]
    },
    {
      "cell_type": "code",
      "source": [
        "import re\n",
        "a='^[A-Z][a-z]([a-zA-Z]*)$'\n",
        "b=str(input())\n",
        "c=re.search(a,b)\n",
        "print(bool(c))"
      ],
      "metadata": {
        "colab": {
          "base_uri": "https://localhost:8080/"
        },
        "id": "pLKslW8DwmcA",
        "outputId": "11ed0f5a-c642-49ed-c38d-3b0756c7e261"
      },
      "execution_count": null,
      "outputs": [
        {
          "output_type": "stream",
          "name": "stdout",
          "text": [
            "AaBbGg\n",
            "True\n"
          ]
        }
      ]
    },
    {
      "cell_type": "code",
      "source": [
        "import re\n",
        "a='^[A-Z]+[a-z]+$'\n",
        "b=str(input())\n",
        "c=re.search(a,b)\n",
        "print(bool(c))"
      ],
      "metadata": {
        "colab": {
          "base_uri": "https://localhost:8080/"
        },
        "id": "7LBuBw8_x41E",
        "outputId": "0870d881-e2f0-4a7b-e75c-bcaa27b979f1"
      },
      "execution_count": null,
      "outputs": [
        {
          "output_type": "stream",
          "name": "stdout",
          "text": [
            "AA\n",
            "False\n"
          ]
        }
      ]
    },
    {
      "cell_type": "code",
      "source": [
        "import re\n",
        "a='^a([a-zA-Z0-9_ -]*)b$'\n",
        "b=str(input())\n",
        "c=re.search(a,b)\n",
        "print(bool(c))"
      ],
      "metadata": {
        "colab": {
          "base_uri": "https://localhost:8080/"
        },
        "id": "1O8ZS-7CziDP",
        "outputId": "ee51537a-a16e-4db2-a8ce-e899d9a226f7"
      },
      "execution_count": null,
      "outputs": [
        {
          "output_type": "stream",
          "name": "stdout",
          "text": [
            "asdfgb\n",
            "True\n"
          ]
        }
      ]
    },
    {
      "cell_type": "code",
      "source": [
        "import re\n",
        "a='^a.*?b$'\n",
        "b=str(input())\n",
        "c=re.search(a,b)\n",
        "print(bool(c))"
      ],
      "metadata": {
        "colab": {
          "base_uri": "https://localhost:8080/"
        },
        "id": "SnsD3oIEzuZt",
        "outputId": "2fcc4b42-35e9-439c-c9a4-56924cb0c2f4"
      },
      "execution_count": null,
      "outputs": [
        {
          "output_type": "stream",
          "name": "stdout",
          "text": [
            "abbb\n",
            "True\n"
          ]
        }
      ]
    },
    {
      "cell_type": "code",
      "source": [
        "import re\n",
        "a='ab{3}?'\n",
        "b=str(input())\n",
        "c=re.search(a,b)\n",
        "print(bool(c))"
      ],
      "metadata": {
        "colab": {
          "base_uri": "https://localhost:8080/"
        },
        "id": "fx-Isv6V7IAa",
        "outputId": "9952454d-7b2e-4874-901d-3dd6e1a96e38"
      },
      "execution_count": null,
      "outputs": [
        {
          "output_type": "stream",
          "name": "stdout",
          "text": [
            "abbbabbabbbb\n",
            "True\n"
          ]
        }
      ]
    },
    {
      "cell_type": "code",
      "source": [
        "import re\n",
        "a='ab{2,3}?'\n",
        "b=str(input())\n",
        "c=re.search(a,b)\n",
        "print(bool(c))"
      ],
      "metadata": {
        "id": "3bmqMGBs7akb"
      },
      "execution_count": null,
      "outputs": []
    },
    {
      "cell_type": "code",
      "source": [
        "import re\n",
        "a='^[a-z_]*$'\n",
        "b=str(input())\n",
        "c=re.search(a,b)\n",
        "print(bool(c))"
      ],
      "metadata": {
        "colab": {
          "base_uri": "https://localhost:8080/"
        },
        "id": "aearstZl7d5b",
        "outputId": "b63196f8-8723-43ec-e8bd-12c577a7cbad"
      },
      "execution_count": null,
      "outputs": [
        {
          "output_type": "stream",
          "name": "stdout",
          "text": [
            "aab_cbbbc\n",
            "True\n"
          ]
        }
      ]
    },
    {
      "cell_type": "code",
      "source": [
        "import re\n",
        "a='^[A-Z]*[a-z]*'\n",
        "b=str(input())\n",
        "c=re.search(a,b)\n",
        "print(bool(c))"
      ],
      "metadata": {
        "colab": {
          "base_uri": "https://localhost:8080/"
        },
        "id": "1ln3qZQjAFNF",
        "outputId": "b871000b-49c2-4921-804a-c5d8801bc1ee"
      },
      "execution_count": null,
      "outputs": [
        {
          "output_type": "stream",
          "name": "stdout",
          "text": [
            "aBa\n",
            "True\n"
          ]
        }
      ]
    },
    {
      "cell_type": "code",
      "source": [
        "import re\n",
        "a='^a.*b$'\n",
        "b=str(input())\n",
        "c=re.search(a,b)\n",
        "print(bool(c))"
      ],
      "metadata": {
        "colab": {
          "base_uri": "https://localhost:8080/"
        },
        "id": "fnWWrUHmBmf6",
        "outputId": "69309667-09f0-4569-9005-7818fada61df"
      },
      "execution_count": null,
      "outputs": [
        {
          "output_type": "stream",
          "name": "stdout",
          "text": [
            "asdfg345678@#$%^b\n",
            "True\n"
          ]
        }
      ]
    },
    {
      "cell_type": "code",
      "source": [
        "import re\n",
        "a='\\w+\\S*$'\n",
        "b=str(input())\n",
        "c=re.search(a,b)\n",
        "print(bool(c))"
      ],
      "metadata": {
        "colab": {
          "base_uri": "https://localhost:8080/"
        },
        "id": "ytQLgeLUCbPZ",
        "outputId": "d3984fc5-4255-4adf-9986-cecf7244c2f7"
      },
      "execution_count": null,
      "outputs": [
        {
          "output_type": "stream",
          "name": "stdout",
          "text": [
            "ab bc cd de .\n",
            "False\n"
          ]
        }
      ]
    },
    {
      "cell_type": "code",
      "source": [
        "import re\n",
        "import re\n",
        "sentense = \"Smart is not art. Art is not smart. Only Art is Art. Smart must not match for art. So this string about art contains 7 complete art words.\"\n",
        "word = 'art'\n",
        "c=0\n",
        "s=re.compile(r“\\\\bw\\\\b”)"
      ],
      "metadata": {
        "colab": {
          "base_uri": "https://localhost:8080/"
        },
        "id": "VnUv_7Cjw4uJ",
        "outputId": "1db69b38-4e03-4830-e267-d5d2f4c47fa7"
      },
      "execution_count": null,
      "outputs": [
        {
          "output_type": "stream",
          "name": "stdout",
          "text": [
            "7\n"
          ]
        }
      ]
    }
  ]
}