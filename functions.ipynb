{
  "nbformat": 4,
  "nbformat_minor": 0,
  "metadata": {
    "colab": {
      "name": "functions.ipynb",
      "provenance": [],
      "authorship_tag": "ABX9TyMi8VLu5Q9SlQfkIarDufYJ",
      "include_colab_link": true
    },
    "kernelspec": {
      "name": "python3",
      "display_name": "Python 3"
    },
    "language_info": {
      "name": "python"
    }
  },
  "cells": [
    {
      "cell_type": "markdown",
      "metadata": {
        "id": "view-in-github",
        "colab_type": "text"
      },
      "source": [
        "<a href=\"https://colab.research.google.com/github/MOHAN0283/python_new/blob/module_2/functions.ipynb\" target=\"_parent\"><img src=\"https://colab.research.google.com/assets/colab-badge.svg\" alt=\"Open In Colab\"/></a>"
      ]
    },
    {
      "cell_type": "code",
      "execution_count": null,
      "metadata": {
        "id": "gulV8nICPeUq"
      },
      "outputs": [],
      "source": [
        "# def is used to define the function\n",
        "def a():\n",
        "  print(\"hi\")"
      ]
    },
    {
      "cell_type": "code",
      "source": [
        "# def is used to define the function and call the function to get the output\n",
        "def a():\n",
        "  print(\"hi\")\n",
        "a()"
      ],
      "metadata": {
        "colab": {
          "base_uri": "https://localhost:8080/"
        },
        "id": "t3GAuBdqP-d3",
        "outputId": "c0e4a147-ca47-474d-e64c-72b2c62c5ec5"
      },
      "execution_count": null,
      "outputs": [
        {
          "output_type": "stream",
          "name": "stdout",
          "text": [
            "hi\n"
          ]
        }
      ]
    },
    {
      "cell_type": "code",
      "source": [
        "def a(sub_name):\n",
        "  print(sub_name +' '+\"registered.\")\n",
        "a(\"math\")\n",
        "a(\"phy\")\n",
        "a(\"che\")"
      ],
      "metadata": {
        "colab": {
          "base_uri": "https://localhost:8080/"
        },
        "id": "rK0fiA1XQNI0",
        "outputId": "c823346b-eb33-437f-f65b-11f26a547561"
      },
      "execution_count": null,
      "outputs": [
        {
          "output_type": "stream",
          "name": "stdout",
          "text": [
            "math registered.\n",
            "phy registered.\n",
            "che registered.\n"
          ]
        }
      ]
    },
    {
      "cell_type": "code",
      "source": [
        "a=int(input(\"Enter a number:\"))\n",
        "f=[0,1]\n",
        "l1=0\n",
        "l2=1\n",
        "for i in range(1,99):\n",
        "  l3=l1+l2\n",
        "  f.append(l3)\n",
        "  l1=l2\n",
        "  l2=l3\n",
        "if a in f:\n",
        "  print(\"y\")\n",
        "else:\n",
        "  print(\"n\")"
      ],
      "metadata": {
        "colab": {
          "base_uri": "https://localhost:8080/"
        },
        "id": "gdnqRmSESET-",
        "outputId": "d6660c63-c73d-4f56-d56b-b0089f4c1542"
      },
      "execution_count": null,
      "outputs": [
        {
          "output_type": "stream",
          "name": "stdout",
          "text": [
            "Enter a number:3\n",
            "y\n"
          ]
        }
      ]
    },
    {
      "cell_type": "code",
      "source": [
        "a=int(input(\"enter a number:\"))\n",
        "b=int(input(\"enter a number:\"))\n",
        "if(a<b):\n",
        "  for i in range(a,b+1):\n",
        "    print(i)\n",
        "elif(a>b):\n",
        "  j=a\n",
        "  while(j>=b):\n",
        "    print(j)\n",
        "    j=j-1\n"
      ],
      "metadata": {
        "colab": {
          "base_uri": "https://localhost:8080/"
        },
        "id": "VfgzcFqofRCz",
        "outputId": "a89842f1-4495-45b9-c73c-bab5b71a24de"
      },
      "execution_count": null,
      "outputs": [
        {
          "output_type": "stream",
          "name": "stdout",
          "text": [
            "enter a number:5\n",
            "enter a number:1\n",
            "5\n",
            "4\n",
            "3\n",
            "2\n",
            "1\n"
          ]
        }
      ]
    },
    {
      "cell_type": "code",
      "source": [
        "c='Ram went for school'\n",
        "a=c.split(' ')\n",
        "b=''\n",
        "for x in a:\n",
        "  b=b+x.capitalize()+' '\n",
        "print(b)"
      ],
      "metadata": {
        "colab": {
          "base_uri": "https://localhost:8080/"
        },
        "id": "LJrXZS_KhkN3",
        "outputId": "a4b654f8-634c-4c78-947e-44d333d4b3f2"
      },
      "execution_count": null,
      "outputs": [
        {
          "output_type": "stream",
          "name": "stdout",
          "text": [
            "Ram Went For School \n"
          ]
        }
      ]
    },
    {
      "cell_type": "code",
      "source": [
        "a=int(input(\"Enter a number:\"))\n",
        "f=[0,1]\n",
        "l1=0\n",
        "l2=1\n",
        "for i in range(1,99):\n",
        "  l3=l1+l2\n",
        "  f.append(l3)\n",
        "  l1=l2\n",
        "  l2=l3\n",
        "if a in f:\n",
        "  print(\"y\")\n",
        "else:\n",
        "  print(\"n\")\n",
        "print(f)"
      ],
      "metadata": {
        "colab": {
          "base_uri": "https://localhost:8080/"
        },
        "id": "7fbuoq1KkmMd",
        "outputId": "b9b6a9c8-cde8-414a-bc0f-76cf124af614"
      },
      "execution_count": null,
      "outputs": [
        {
          "output_type": "stream",
          "name": "stdout",
          "text": [
            "Enter a number:5\n",
            "y\n",
            "[0, 1, 1, 2, 3, 5, 8, 13, 21, 34, 55, 89, 144, 233, 377, 610, 987, 1597, 2584, 4181, 6765, 10946, 17711, 28657, 46368, 75025, 121393, 196418, 317811, 514229, 832040, 1346269, 2178309, 3524578, 5702887, 9227465, 14930352, 24157817, 39088169, 63245986, 102334155, 165580141, 267914296, 433494437, 701408733, 1134903170, 1836311903, 2971215073, 4807526976, 7778742049, 12586269025, 20365011074, 32951280099, 53316291173, 86267571272, 139583862445, 225851433717, 365435296162, 591286729879, 956722026041, 1548008755920, 2504730781961, 4052739537881, 6557470319842, 10610209857723, 17167680177565, 27777890035288, 44945570212853, 72723460248141, 117669030460994, 190392490709135, 308061521170129, 498454011879264, 806515533049393, 1304969544928657, 2111485077978050, 3416454622906707, 5527939700884757, 8944394323791464, 14472334024676221, 23416728348467685, 37889062373143906, 61305790721611591, 99194853094755497, 160500643816367088, 259695496911122585, 420196140727489673, 679891637638612258, 1100087778366101931, 1779979416004714189, 2880067194370816120, 4660046610375530309, 7540113804746346429, 12200160415121876738, 19740274219868223167, 31940434634990099905, 51680708854858323072, 83621143489848422977, 135301852344706746049, 218922995834555169026]\n"
          ]
        }
      ]
    }
  ]
}