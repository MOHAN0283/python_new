{
  "nbformat": 4,
  "nbformat_minor": 0,
  "metadata": {
    "colab": {
      "name": "TUPLES.ipynb",
      "provenance": [],
      "collapsed_sections": [],
      "authorship_tag": "ABX9TyMzlfshM7rekIkzqKV+gGxH",
      "include_colab_link": true
    },
    "kernelspec": {
      "name": "python3",
      "display_name": "Python 3"
    },
    "language_info": {
      "name": "python"
    }
  },
  "cells": [
    {
      "cell_type": "markdown",
      "metadata": {
        "id": "view-in-github",
        "colab_type": "text"
      },
      "source": [
        "<a href=\"https://colab.research.google.com/github/MOHAN0283/python_new/blob/module_2/TUPLES.ipynb\" target=\"_parent\"><img src=\"https://colab.research.google.com/assets/colab-badge.svg\" alt=\"Open In Colab\"/></a>"
      ]
    },
    {
      "cell_type": "code",
      "execution_count": null,
      "metadata": {
        "colab": {
          "base_uri": "https://localhost:8080/"
        },
        "id": "-Rbb5MQQZQEi",
        "outputId": "e96dc84e-a46d-4800-f2f4-1a8f381281b4"
      },
      "outputs": [
        {
          "output_type": "stream",
          "name": "stdout",
          "text": [
            "('apple', 'banana', 'cherry')\n"
          ]
        }
      ],
      "source": [
        "# printing tuple\n",
        "tup = (\"apple\", \"banana\", \"cherry\")\n",
        "print(tup)"
      ]
    },
    {
      "cell_type": "code",
      "source": [
        "tup = (\"apple\", \"banana\", \"cherry\", \"apple\", \"cherry\")\n",
        "print(tup)\n",
        "# allows duplicates"
      ],
      "metadata": {
        "colab": {
          "base_uri": "https://localhost:8080/"
        },
        "id": "jMkSejPraOcf",
        "outputId": "63c2b31b-4ae8-4563-f0e2-b995e71e936c"
      },
      "execution_count": null,
      "outputs": [
        {
          "output_type": "stream",
          "name": "stdout",
          "text": [
            "('apple', 'banana', 'cherry', 'apple', 'cherry')\n"
          ]
        }
      ]
    },
    {
      "cell_type": "code",
      "source": [
        "tup = (\"apple\", \"banana\", \"cherry\")\n",
        "print(len(tup))\n",
        "# length of tuple"
      ],
      "metadata": {
        "colab": {
          "base_uri": "https://localhost:8080/"
        },
        "id": "tIB7H-kuapq_",
        "outputId": "0208f1e6-40d5-41b1-e0fa-447efeec0289"
      },
      "execution_count": null,
      "outputs": [
        {
          "output_type": "stream",
          "name": "stdout",
          "text": [
            "3\n"
          ]
        }
      ]
    },
    {
      "cell_type": "code",
      "source": [
        "tup = (\"apple\",)\n",
        "print(type(tup))\n",
        "#NOT a tuple\n",
        "tup = (\"apple\")\n",
        "print(type(tup))\n",
        "# , is important after an item or else it will be considered as a string"
      ],
      "metadata": {
        "colab": {
          "base_uri": "https://localhost:8080/"
        },
        "id": "EZWo8u7La8ze",
        "outputId": "6a59981a-d419-4e0e-ae3f-3dbf225f76ff"
      },
      "execution_count": null,
      "outputs": [
        {
          "output_type": "stream",
          "name": "stdout",
          "text": [
            "<class 'tuple'>\n",
            "<class 'str'>\n"
          ]
        }
      ]
    },
    {
      "cell_type": "code",
      "source": [
        "tuple1 = (\"apple\", \"banana\", \"cherry\")\n",
        "print(type(tuple1))\n",
        "tuple2 = (1, 5, 7, 9, 3)\n",
        "print(type(tuple2))\n",
        "tuple3 = (True, False, False)\n",
        "print(type(tuple3))\n",
        "tuple4 = (\"abc\", 34, True, 40, \"male\")\n",
        "print(type(tuple4))"
      ],
      "metadata": {
        "colab": {
          "base_uri": "https://localhost:8080/"
        },
        "id": "Dbkbe98gbwHu",
        "outputId": "e9c81d88-8fcf-4341-c685-b7996b5fc7e3"
      },
      "execution_count": null,
      "outputs": [
        {
          "output_type": "stream",
          "name": "stdout",
          "text": [
            "<class 'tuple'>\n",
            "<class 'tuple'>\n",
            "<class 'tuple'>\n",
            "<class 'tuple'>\n"
          ]
        }
      ]
    },
    {
      "cell_type": "code",
      "source": [
        "# to change a tuple convert it into a list\n",
        "x = (\"apple\", \"banana\", \"cherry\")\n",
        "y=list(x)\n",
        "print(y)\n",
        "y.append(\"plum\")\n",
        "z=tuple(y)\n",
        "print(z)"
      ],
      "metadata": {
        "id": "ENbfVxUXsE9w",
        "colab": {
          "base_uri": "https://localhost:8080/"
        },
        "outputId": "97b39da1-dcdd-4725-fdde-596b69a17071"
      },
      "execution_count": null,
      "outputs": [
        {
          "output_type": "stream",
          "name": "stdout",
          "text": [
            "['apple', 'banana', 'cherry']\n",
            "('apple', 'banana', 'cherry', 'plum')\n"
          ]
        }
      ]
    },
    {
      "cell_type": "code",
      "source": [
        "#you can add two tuples\n",
        "tup = (\"apple\", \"banana\", \"cherry\")\n",
        "y = (\"orange\",)\n",
        "tup=tup+y\n",
        "print(tup)"
      ],
      "metadata": {
        "colab": {
          "base_uri": "https://localhost:8080/"
        },
        "id": "PRIGuj2Ywt7I",
        "outputId": "6e500701-f437-4934-b645-88f504e50a1d"
      },
      "execution_count": null,
      "outputs": [
        {
          "output_type": "stream",
          "name": "stdout",
          "text": [
            "('apple', 'banana', 'cherry', 'orange')\n"
          ]
        }
      ]
    },
    {
      "cell_type": "code",
      "source": [
        "x = (\"apple\", \"banana\", \"cherry\")\n",
        "y=list(x)\n",
        "print(y)\n",
        "y.remove(\"apple\")\n",
        "x=tuple(y)\n",
        "print(x)"
      ],
      "metadata": {
        "colab": {
          "base_uri": "https://localhost:8080/"
        },
        "id": "Ubfjm5TAxrG4",
        "outputId": "3317bb80-2af8-454d-d682-63f59b00484d"
      },
      "execution_count": null,
      "outputs": [
        {
          "output_type": "stream",
          "name": "stdout",
          "text": [
            "['apple', 'banana', 'cherry']\n",
            "('banana', 'cherry')\n"
          ]
        }
      ]
    },
    {
      "cell_type": "code",
      "source": [
        "# tuple unpacking\n",
        "x = (\"apple\", \"banana\", \"cherry\")\n",
        "(red,yellow,pink)=x\n",
        "print(red)\n",
        "print(yellow)\n",
        "print(pink)"
      ],
      "metadata": {
        "colab": {
          "base_uri": "https://localhost:8080/"
        },
        "id": "3rOVMgt-yPhC",
        "outputId": "986dffd8-e13e-434f-8c8a-fa6bb54c6785"
      },
      "execution_count": null,
      "outputs": [
        {
          "output_type": "stream",
          "name": "stdout",
          "text": [
            "apple\n",
            "banana\n",
            "cherry\n"
          ]
        }
      ]
    },
    {
      "cell_type": "code",
      "source": [
        "x = (\"apple\", \"banana\", \"cherry\",\"papaya\")\n",
        "(red,yellow,*pink)=x\n",
        "print(*pink)\n",
        "print(pink)\n",
        "# note whin printing if u use astrick u will get strings"
      ],
      "metadata": {
        "colab": {
          "base_uri": "https://localhost:8080/"
        },
        "id": "v7A66S9Ey78Z",
        "outputId": "63502406-2027-419a-b55c-da8af00a24ad"
      },
      "execution_count": null,
      "outputs": [
        {
          "output_type": "stream",
          "name": "stdout",
          "text": [
            "cherry papaya\n",
            "['cherry', 'papaya']\n",
            "x\n"
          ]
        }
      ]
    },
    {
      "cell_type": "code",
      "source": [
        "x = (\"apple\", \"banana\", \"cherry\",\"papaya\",\"chocolate\")\n",
        "(red,yellow,*pink,dark)=x# pink is assigned to cherry and papaya but not chocolate\n",
        "print(pink)"
      ],
      "metadata": {
        "colab": {
          "base_uri": "https://localhost:8080/"
        },
        "id": "bLZvSWl6z6vs",
        "outputId": "c1501ee3-f627-4dd9-f5cc-ca061aa8e4e7"
      },
      "execution_count": null,
      "outputs": [
        {
          "output_type": "stream",
          "name": "stdout",
          "text": [
            "['cherry', 'papaya']\n"
          ]
        }
      ]
    },
    {
      "cell_type": "code",
      "source": [
        "x = (\"apple\", \"banana\", \"cherry\",\"papaya\",\"chocolate\")\n",
        "for i in x:\n",
        "  print(i)"
      ],
      "metadata": {
        "colab": {
          "base_uri": "https://localhost:8080/"
        },
        "id": "NxNbV_kP0o9M",
        "outputId": "c36fd3db-7e7a-49f5-e9a1-550035de7871"
      },
      "execution_count": null,
      "outputs": [
        {
          "output_type": "stream",
          "name": "stdout",
          "text": [
            "apple\n",
            "banana\n",
            "cherry\n",
            "papaya\n",
            "chocolate\n"
          ]
        }
      ]
    },
    {
      "cell_type": "code",
      "source": [
        "x = (\"apple\", \"banana\", \"cherry\",\"papaya\",\"chocolate\")\n",
        "for i in range(len(x)):\n",
        "  if(i<4):\n",
        "    print(x[i])"
      ],
      "metadata": {
        "colab": {
          "base_uri": "https://localhost:8080/"
        },
        "id": "aztKqwY30690",
        "outputId": "01fb970d-b075-4a83-9d4e-8c908b44fafb"
      },
      "execution_count": null,
      "outputs": [
        {
          "output_type": "stream",
          "name": "stdout",
          "text": [
            "apple\n",
            "banana\n",
            "cherry\n",
            "papaya\n"
          ]
        }
      ]
    },
    {
      "cell_type": "code",
      "source": [
        "x = (\"apple\", \"banana\", \"cherry\",\"papaya\",\"chocolate\")\n",
        "i=0\n",
        "while(i<len(x)):\n",
        "  print(x[i])\n",
        "  i=i+1"
      ],
      "metadata": {
        "colab": {
          "base_uri": "https://localhost:8080/"
        },
        "id": "rhk19xyL1Ukc",
        "outputId": "a97e2bec-2131-46ea-f4e3-87760d5d515b"
      },
      "execution_count": null,
      "outputs": [
        {
          "output_type": "stream",
          "name": "stdout",
          "text": [
            "apple\n",
            "banana\n",
            "cherry\n",
            "papaya\n",
            "chocolate\n"
          ]
        }
      ]
    },
    {
      "cell_type": "code",
      "source": [
        "x = (\"apple\", \"banana\", \"cherry\",\"papaya\",\"chocolate\")# join tuples\n",
        "y = (1,2,3)\n",
        "z=x+y\n",
        "print(z)"
      ],
      "metadata": {
        "colab": {
          "base_uri": "https://localhost:8080/"
        },
        "id": "hJmaFswy2Cuu",
        "outputId": "32db8b6a-80bc-41d0-9451-ad5c3abdf5ae"
      },
      "execution_count": null,
      "outputs": [
        {
          "output_type": "stream",
          "name": "stdout",
          "text": [
            "('apple', 'banana', 'cherry', 'papaya', 'chocolate', 1, 2, 3)\n"
          ]
        }
      ]
    },
    {
      "cell_type": "code",
      "source": [
        "x = (\"apple\", \"banana\", \"cherry\",\"papaya\",\"chocolate\")# you can mustiply tuple as well as lists\n",
        "y=x*2\n",
        "print(y)\n",
        "z=x[0]*2\n",
        "print(z)"
      ],
      "metadata": {
        "colab": {
          "base_uri": "https://localhost:8080/"
        },
        "id": "i_T4DBjP2TbV",
        "outputId": "fb62f757-7dfc-4321-aeca-0131dec068d3"
      },
      "execution_count": null,
      "outputs": [
        {
          "output_type": "stream",
          "name": "stdout",
          "text": [
            "('apple', 'banana', 'cherry', 'papaya', 'chocolate', 'apple', 'banana', 'cherry', 'papaya', 'chocolate')\n",
            "appleapple\n"
          ]
        }
      ]
    },
    {
      "cell_type": "code",
      "source": [
        ""
      ],
      "metadata": {
        "id": "Xpp7J3TM2jz1"
      },
      "execution_count": null,
      "outputs": []
    }
  ]
}