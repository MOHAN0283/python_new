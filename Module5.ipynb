{
  "nbformat": 4,
  "nbformat_minor": 0,
  "metadata": {
    "colab": {
      "name": "Module5.ipynb",
      "provenance": [],
      "authorship_tag": "ABX9TyMUKLyFAlIppXHDx1uruzrD",
      "include_colab_link": true
    },
    "kernelspec": {
      "name": "python3",
      "display_name": "Python 3"
    },
    "language_info": {
      "name": "python"
    }
  },
  "cells": [
    {
      "cell_type": "markdown",
      "metadata": {
        "id": "view-in-github",
        "colab_type": "text"
      },
      "source": [
        "<a href=\"https://colab.research.google.com/github/MOHAN0283/python_new/blob/module_5/Module5.ipynb\" target=\"_parent\"><img src=\"https://colab.research.google.com/assets/colab-badge.svg\" alt=\"Open In Colab\"/></a>"
      ]
    },
    {
      "cell_type": "code",
      "execution_count": null,
      "metadata": {
        "colab": {
          "base_uri": "https://localhost:8080/"
        },
        "id": "nu53P-rJ2L9R",
        "outputId": "5f89bfe9-dce7-4f38-aa6d-447a248d1c47"
      },
      "outputs": [
        {
          "output_type": "stream",
          "name": "stdout",
          "text": [
            "hi hello @\n",
            "None\n",
            "False\n"
          ]
        }
      ],
      "source": [
        "import re\n",
        "p=\"^[A-Za-z0-9_ -]*$\"\n",
        "s=str(input())\n",
        "c=bool(re.match(p,s))\n",
        "d=re.match(p,s)\n",
        "print(d)\n",
        "print(c)"
      ]
    },
    {
      "cell_type": "code",
      "source": [
        "import re\n",
        "def text_match(text):\n",
        "        patterns = '^a(b*|0*)$'\n",
        "        if re.search(patterns,  text):\n",
        "                return 'Found a match!'\n",
        "        else:\n",
        "                return('Not matched!')\n",
        "a=str(input())\n",
        "text_match(a)\n",
        "print(text_match(a))"
      ],
      "metadata": {
        "colab": {
          "base_uri": "https://localhost:8080/"
        },
        "id": "KHZcpOyQ49A_",
        "outputId": "b1fe3995-3403-421e-f5c3-2f5ac17019fa"
      },
      "execution_count": null,
      "outputs": [
        {
          "output_type": "stream",
          "name": "stdout",
          "text": [
            "abb\n",
            "Found a match!\n"
          ]
        }
      ]
    },
    {
      "cell_type": "code",
      "source": [
        "import re\n",
        "def text_match(text):\n",
        "        patterns = '^a(b*|1*)$'\n",
        "        if re.search(patterns,  text):\n",
        "                return 'Found a match!'\n",
        "        else:\n",
        "                return('Not matched!')\n",
        "a=str(input())\n",
        "text_match(a)\n",
        "print(text_match(a))"
      ],
      "metadata": {
        "id": "up22cIY_9bTc"
      },
      "execution_count": null,
      "outputs": []
    },
    {
      "cell_type": "code",
      "source": [
        "import re\n",
        "def text_match(text):\n",
        "        patterns = '^a(b|0*)$'\n",
        "        if re.search(patterns,  text):\n",
        "                return 'Found a match!'\n",
        "        else:\n",
        "                return('Not matched!')\n",
        "a=str(input())\n",
        "text_match(a)\n",
        "print(text_match(a))"
      ],
      "metadata": {
        "id": "TqJ4mOIz9vnE"
      },
      "execution_count": null,
      "outputs": []
    },
    {
      "cell_type": "code",
      "source": [
        "import re\n",
        "def text_match(text):\n",
        "        patterns = '^a(bbb)$'\n",
        "        if re.search(patterns,  text):\n",
        "                return 'Found a match!'\n",
        "        else:\n",
        "                return('Not matched!')\n",
        "a=str(input())\n",
        "text_match(a)\n",
        "print(text_match(a))"
      ],
      "metadata": {
        "colab": {
          "base_uri": "https://localhost:8080/"
        },
        "id": "5AOZOGqz95WU",
        "outputId": "eb2f97cb-2e1c-496c-a4ce-ff5c3126cd56"
      },
      "execution_count": null,
      "outputs": [
        {
          "output_type": "stream",
          "name": "stdout",
          "text": [
            "abbb\n",
            "Found a match!\n"
          ]
        }
      ]
    }
  ]
}