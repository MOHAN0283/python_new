{
  "nbformat": 4,
  "nbformat_minor": 0,
  "metadata": {
    "colab": {
      "name": "strings.ipynb",
      "provenance": [],
      "collapsed_sections": [],
      "authorship_tag": "ABX9TyOSitDc3zguL64uTkrTs19t",
      "include_colab_link": true
    },
    "kernelspec": {
      "name": "python3",
      "display_name": "Python 3"
    },
    "language_info": {
      "name": "python"
    }
  },
  "cells": [
    {
      "cell_type": "markdown",
      "metadata": {
        "id": "view-in-github",
        "colab_type": "text"
      },
      "source": [
        "<a href=\"https://colab.research.google.com/github/MOHAN0283/python_new/blob/module_2/strings.ipynb\" target=\"_parent\"><img src=\"https://colab.research.google.com/assets/colab-badge.svg\" alt=\"Open In Colab\"/></a>"
      ]
    },
    {
      "cell_type": "code",
      "execution_count": null,
      "metadata": {
        "colab": {
          "base_uri": "https://localhost:8080/"
        },
        "id": "h2vTQaEJ6y_W",
        "outputId": "494fee7f-8ebd-4575-d10a-41444d768f2b"
      },
      "outputs": [
        {
          "output_type": "stream",
          "name": "stdout",
          "text": [
            "MOHANA KRISHNA\n",
            "<class 'str'>\n"
          ]
        }
      ],
      "source": [
        "mk=\"MOHANA KRISHNA\"\n",
        "print(mk)\n",
        "print(type(mk))"
      ]
    },
    {
      "cell_type": "code",
      "source": [
        "mk=\"MOHANA KRISHNA\"\n",
        "print(mk[0])\n",
        "print(len(mk))\n",
        "print(mk[0:5])\n",
        "print(mk[0:12])"
      ],
      "metadata": {
        "colab": {
          "base_uri": "https://localhost:8080/"
        },
        "id": "0Tnc-1UH7nJl",
        "outputId": "214b52cd-0380-411f-9c65-a09c4929309d"
      },
      "execution_count": null,
      "outputs": [
        {
          "output_type": "stream",
          "name": "stdout",
          "text": [
            "M\n",
            "14\n",
            "MOHAN\n",
            "MOHANA KRISH\n"
          ]
        }
      ]
    },
    {
      "cell_type": "code",
      "source": [
        "rrr=\"RRR movie has been released\"\n",
        "print(\"RRR\" in rrr)"
      ],
      "metadata": {
        "colab": {
          "base_uri": "https://localhost:8080/"
        },
        "id": "PCWsmKCw8R7A",
        "outputId": "7a32c521-8472-44e4-c0bf-9bcea5cef415"
      },
      "execution_count": null,
      "outputs": [
        {
          "output_type": "stream",
          "name": "stdout",
          "text": [
            "True\n"
          ]
        }
      ]
    },
    {
      "cell_type": "code",
      "source": [
        "rrr=\"RRR movie has been released\"\n",
        "print(\"RRR\" not in rrr)"
      ],
      "metadata": {
        "colab": {
          "base_uri": "https://localhost:8080/"
        },
        "id": "fNUzm9NG9Khv",
        "outputId": "768cae24-95cf-453a-8cbf-a8d33652d76a"
      },
      "execution_count": null,
      "outputs": [
        {
          "output_type": "stream",
          "name": "stdout",
          "text": [
            "False\n"
          ]
        }
      ]
    },
    {
      "cell_type": "markdown",
      "source": [
        "SLICING:"
      ],
      "metadata": {
        "id": "wy6vHQaR9rTN"
      }
    },
    {
      "cell_type": "code",
      "source": [
        "rrr=\"RRR movie has been released\"\n",
        "print(rrr[2:5])"
      ],
      "metadata": {
        "colab": {
          "base_uri": "https://localhost:8080/"
        },
        "id": "RjjvHgqa9qbt",
        "outputId": "7a4f27d2-d75c-4e07-c973-43cb286ea78a"
      },
      "execution_count": null,
      "outputs": [
        {
          "output_type": "stream",
          "name": "stdout",
          "text": [
            "R m\n"
          ]
        }
      ]
    },
    {
      "cell_type": "markdown",
      "source": [
        "STRING MODIFICATION"
      ],
      "metadata": {
        "id": "QyT_mKq8YQ7k"
      }
    },
    {
      "cell_type": "code",
      "source": [
        "a=\"hi! this is mohana krishna\"\n",
        "print(a.upper())"
      ],
      "metadata": {
        "colab": {
          "base_uri": "https://localhost:8080/"
        },
        "id": "9VuN5_sLXofO",
        "outputId": "4fc5ad78-b9ff-405d-e648-0165d67414d4"
      },
      "execution_count": null,
      "outputs": [
        {
          "output_type": "stream",
          "name": "stdout",
          "text": [
            "HI! THIS IS MOHANA KRISHNA\n"
          ]
        }
      ]
    },
    {
      "cell_type": "code",
      "source": [
        "a=\"HI! THIS IS MOHANA KRISHNA\"\n",
        "print(a.lower())"
      ],
      "metadata": {
        "colab": {
          "base_uri": "https://localhost:8080/"
        },
        "id": "vJlwP7kVYpaF",
        "outputId": "bc1057df-0a16-46f7-e945-e730a1cea648"
      },
      "execution_count": null,
      "outputs": [
        {
          "output_type": "stream",
          "name": "stdout",
          "text": [
            "hi! this is mohana krishna\n"
          ]
        }
      ]
    },
    {
      "cell_type": "code",
      "source": [
        "a=\"  HI! THIS IS MOHANA KRISHNA  \"\n",
        "print(a.strip())\n",
        "# removes spaces after and before double quotes"
      ],
      "metadata": {
        "colab": {
          "base_uri": "https://localhost:8080/"
        },
        "id": "fmU_am4JYya9",
        "outputId": "82cabcec-06ca-4a8a-850b-e2e3d41e96b9"
      },
      "execution_count": null,
      "outputs": [
        {
          "output_type": "stream",
          "name": "stdout",
          "text": [
            "HI! THIS IS MOHANA KRISHNA\n"
          ]
        }
      ]
    },
    {
      "cell_type": "code",
      "source": [
        "a=\"HI! THIS IS MOHANA KRISHNA\"\n",
        "print(a.replace('KRISHNA',' '))"
      ],
      "metadata": {
        "colab": {
          "base_uri": "https://localhost:8080/"
        },
        "id": "a91VZDkkZQCe",
        "outputId": "390c364a-5bad-4f97-8098-7123658f61c6"
      },
      "execution_count": null,
      "outputs": [
        {
          "output_type": "stream",
          "name": "stdout",
          "text": [
            "HI! THIS IS MOHANA  \n"
          ]
        }
      ]
    },
    {
      "cell_type": "code",
      "source": [
        "a=\"HI! ,THIS IS ,MOHANA KRISHNA\"\n",
        "print(a.split(\",\"))"
      ],
      "metadata": {
        "colab": {
          "base_uri": "https://localhost:8080/"
        },
        "id": "AeMlzunbZsT3",
        "outputId": "1a3507a6-42b6-4554-8643-414ee73de676"
      },
      "execution_count": null,
      "outputs": [
        {
          "output_type": "stream",
          "name": "stdout",
          "text": [
            "['HI! ', 'THIS IS ', 'MOHANA KRISHNA']\n"
          ]
        }
      ]
    },
    {
      "cell_type": "code",
      "source": [
        "a='Mohan'\n",
        "b='Krishna'\n",
        "print(a+b)"
      ],
      "metadata": {
        "colab": {
          "base_uri": "https://localhost:8080/"
        },
        "id": "KHmLFjefaBhm",
        "outputId": "f748e9e9-13d2-4ae7-95fc-387a4ff54dfd"
      },
      "execution_count": null,
      "outputs": [
        {
          "output_type": "stream",
          "name": "stdout",
          "text": [
            "MohanKrishna\n"
          ]
        }
      ]
    },
    {
      "cell_type": "code",
      "source": [
        "a='Mohan'\n",
        "b='Krishna'\n",
        "c=' '\n",
        "print(a+c+b)"
      ],
      "metadata": {
        "colab": {
          "base_uri": "https://localhost:8080/"
        },
        "id": "ghpKfeW4aU8F",
        "outputId": "d8388bdb-1eee-4bab-a615-14a3f5365081"
      },
      "execution_count": null,
      "outputs": [
        {
          "output_type": "stream",
          "name": "stdout",
          "text": [
            "Mohan Krishna\n"
          ]
        }
      ]
    },
    {
      "cell_type": "code",
      "source": [
        "a=1\n",
        "b=\"HELLO MR.{}\"\n",
        "print(b.format(a))"
      ],
      "metadata": {
        "colab": {
          "base_uri": "https://localhost:8080/"
        },
        "id": "fCedjCAZaak9",
        "outputId": "c492755f-a9e6-4bcb-9522-fd83fe144579"
      },
      "execution_count": null,
      "outputs": [
        {
          "output_type": "stream",
          "name": "stdout",
          "text": [
            "HELLO MR.1\n"
          ]
        }
      ]
    },
    {
      "cell_type": "code",
      "source": [
        "price=10\n",
        "quantity=1.0\n",
        "item='coke'\n",
        "d='The price of {}-{} is {}'\n",
        "print(d.format(quantity,item,price))"
      ],
      "metadata": {
        "colab": {
          "base_uri": "https://localhost:8080/"
        },
        "id": "YwQR1M9lhRT1",
        "outputId": "5d95027b-c2e3-479f-874e-efa5d23146bd"
      },
      "execution_count": null,
      "outputs": [
        {
          "output_type": "stream",
          "name": "stdout",
          "text": [
            "The price of 1.0-coke is 10\n"
          ]
        }
      ]
    },
    {
      "cell_type": "code",
      "source": [
        "price=10\n",
        "quantity=1.0\n",
        "item='coke'\n",
        "d='The price of {1}-{2} is {0}'\n",
        "print(d.format(price,quantity,item))"
      ],
      "metadata": {
        "colab": {
          "base_uri": "https://localhost:8080/"
        },
        "id": "5JHoMXW8iq0d",
        "outputId": "90a9b51e-d7eb-412d-bd6d-58c55bc80c01"
      },
      "execution_count": null,
      "outputs": [
        {
          "output_type": "stream",
          "name": "stdout",
          "text": [
            "The price of 1.0-coke is 10\n"
          ]
        }
      ]
    },
    {
      "cell_type": "code",
      "source": [
        "s1=int(input(\"Enter marks in s1:\"))\n",
        "s2=int(input(\"Enter marks in s2:\"))\n",
        "s3=int(input(\"Enter marks in s3:\"))\n",
        "d='The marks in\\ns1:{}\\ns2:{}\\ns3:{}\\ntotal marks are:{}'\n",
        "print(d.format(s1,s2,s3,s1+s2+s3))"
      ],
      "metadata": {
        "colab": {
          "base_uri": "https://localhost:8080/"
        },
        "id": "Jg5LKkfDkHZd",
        "outputId": "3ed01d38-2a98-4200-e1cd-c938072babf7"
      },
      "execution_count": null,
      "outputs": [
        {
          "output_type": "stream",
          "name": "stdout",
          "text": [
            "Enter marks in s1:1\n",
            "Enter marks in s2:2\n",
            "Enter marks in s3:3\n",
            "The marks in\n",
            "s1:1\n",
            "s2:2\n",
            "s3:3\n",
            "total marks are:6\n"
          ]
        }
      ]
    },
    {
      "cell_type": "code",
      "source": [
        "x=1\n",
        "y=2\n",
        "z=3\n",
        "a=x+y+z\n",
        "s=\"The sum of {}+{}+{} is {}\"\n",
        "print(s.format(x,y,z,a))"
      ],
      "metadata": {
        "colab": {
          "base_uri": "https://localhost:8080/"
        },
        "id": "5uR8vNHPa9bt",
        "outputId": "b8335e3f-3d63-436b-b0c1-6f4e25d5e174"
      },
      "execution_count": null,
      "outputs": [
        {
          "output_type": "stream",
          "name": "stdout",
          "text": [
            "The sum of 1+2+3 is 6\n"
          ]
        }
      ]
    },
    {
      "cell_type": "code",
      "source": [
        "x=1\n",
        "y=2\n",
        "z=3\n",
        "a=x+y+z\n",
        "s=\"The sum of {2}+{1}+{0} is {3}\"\n",
        "print(s.format(x,y,z,a))"
      ],
      "metadata": {
        "colab": {
          "base_uri": "https://localhost:8080/"
        },
        "id": "kYm8cL61bmZd",
        "outputId": "b928a620-ef35-427b-9b5d-3423ab7f006f"
      },
      "execution_count": null,
      "outputs": [
        {
          "output_type": "stream",
          "name": "stdout",
          "text": [
            "The sum of 3+2+1 is 6\n"
          ]
        }
      ]
    },
    {
      "cell_type": "code",
      "source": [
        "a='HELLO\\'GOOD MORNING\\'GUYS'\n",
        "print(a)"
      ],
      "metadata": {
        "colab": {
          "base_uri": "https://localhost:8080/"
        },
        "id": "nk93ReuhcOQt",
        "outputId": "77562591-06fe-42fd-b6a3-c0cecfefbda8"
      },
      "execution_count": null,
      "outputs": [
        {
          "output_type": "stream",
          "name": "stdout",
          "text": [
            "HELLO'GOOD MORNING'GUYS\n"
          ]
        }
      ]
    },
    {
      "cell_type": "code",
      "source": [
        "a=\"\\110\\145\\154\\154\\157\"\n",
        "print(a)"
      ],
      "metadata": {
        "colab": {
          "base_uri": "https://localhost:8080/"
        },
        "id": "sVCSIPTNpU93",
        "outputId": "bc2ed827-1ade-4d5a-bf38-906a7624161f"
      },
      "execution_count": null,
      "outputs": [
        {
          "output_type": "stream",
          "name": "stdout",
          "text": [
            "Hello\n"
          ]
        }
      ]
    },
    {
      "cell_type": "code",
      "source": [
        "a=\"mk\"\n",
        "b=a.capitalize()\n",
        "print(b)"
      ],
      "metadata": {
        "colab": {
          "base_uri": "https://localhost:8080/"
        },
        "id": "U0d-Gms7p09e",
        "outputId": "19708f52-30e5-4d3e-c4f0-80521393081a"
      },
      "execution_count": null,
      "outputs": [
        {
          "output_type": "stream",
          "name": "stdout",
          "text": [
            "Mk\n"
          ]
        }
      ]
    },
    {
      "cell_type": "code",
      "source": [
        "a=\"MK\"\n",
        "b=a.casefold()\n",
        "print(b)"
      ],
      "metadata": {
        "colab": {
          "base_uri": "https://localhost:8080/"
        },
        "id": "Ut7jDmDdrLy1",
        "outputId": "c68b3146-7b83-4dd8-e1eb-0732a74be86d"
      },
      "execution_count": null,
      "outputs": [
        {
          "output_type": "stream",
          "name": "stdout",
          "text": [
            "mk\n"
          ]
        }
      ]
    },
    {
      "cell_type": "code",
      "source": [
        "a=\"AMK\"\n",
        "b=a.center(35)\n",
        "print(b)"
      ],
      "metadata": {
        "colab": {
          "base_uri": "https://localhost:8080/"
        },
        "id": "NAsomM9QraFG",
        "outputId": "9275bcf2-574e-4c73-c16d-3a015222be92"
      },
      "execution_count": null,
      "outputs": [
        {
          "output_type": "stream",
          "name": "stdout",
          "text": [
            "                AMK                \n"
          ]
        }
      ]
    },
    {
      "cell_type": "code",
      "source": [
        "a=\"AMK AA\"\n",
        "b=a.count('')\n",
        "c=len(a)\n",
        "print(b,c)"
      ],
      "metadata": {
        "colab": {
          "base_uri": "https://localhost:8080/"
        },
        "id": "KbACIwQSrtqt",
        "outputId": "73c54d74-bbea-4056-bae0-de6444b430d5"
      },
      "execution_count": null,
      "outputs": [
        {
          "output_type": "stream",
          "name": "stdout",
          "text": [
            "7 6\n"
          ]
        }
      ]
    },
    {
      "cell_type": "code",
      "source": [
        "a=\"hi Àk!\"\n",
        "b=a.encode()\n",
        "print(b)"
      ],
      "metadata": {
        "colab": {
          "base_uri": "https://localhost:8080/"
        },
        "id": "GJFoNqP24HcP",
        "outputId": "40490e9d-22cd-4891-a473-a1a52da89fda"
      },
      "execution_count": null,
      "outputs": [
        {
          "output_type": "stream",
          "name": "stdout",
          "text": [
            "b'hi \\xc3\\x80k!'\n"
          ]
        }
      ]
    },
    {
      "cell_type": "code",
      "source": [
        "a=\"hello mk\"\n",
        "print(a.endswith(\"mk\"))\n",
        "print(a.expandtabs(2))"
      ],
      "metadata": {
        "colab": {
          "base_uri": "https://localhost:8080/"
        },
        "id": "ImLIpEN241Rn",
        "outputId": "04b20206-e74e-4bd8-9c7a-5191a6ae524d"
      },
      "execution_count": null,
      "outputs": [
        {
          "output_type": "stream",
          "name": "stdout",
          "text": [
            "True\n",
            "hello mk\n"
          ]
        }
      ]
    },
    {
      "cell_type": "markdown",
      "source": [
        "cd Casestudy/   (name of the project)\n",
        "\n",
        "ls               (it shows complete projects) \n",
        "\n",
        "cd foldername    (it goes to the coresponding folder in the case study)\n",
        "\n",
        "ls               (it shows the list of files inside the corespoding folder)\n",
        "\n",
        "cat filename.py\n",
        "\n",
        "go to console and click run\n",
        "\n",
        "when you are operating programs in text files save the format with .txt\n",
        "\n",
        "echo\n",
        "echo \"hello\" > filename.txt\n",
        "\n",
        "cat filename.txt"
      ],
      "metadata": {
        "id": "xgq-uOtv8PxJ"
      }
    },
    {
      "cell_type": "code",
      "source": [
        "def palindrome(word):\n",
        "  a=word[::-1]\n",
        "  if a==word:\n",
        "    return True\n",
        "  else:\n",
        "    return False\n",
        "word=str(input(\"Enter the string:\"))\n",
        "palindrome(word)"
      ],
      "metadata": {
        "id": "Kaxa5PVc8PUQ",
        "colab": {
          "base_uri": "https://localhost:8080/"
        },
        "outputId": "d5550d0e-f29c-4fea-cdef-576d9e2e7596"
      },
      "execution_count": null,
      "outputs": [
        {
          "name": "stdout",
          "output_type": "stream",
          "text": [
            "Enter the string:aba\n"
          ]
        },
        {
          "output_type": "execute_result",
          "data": {
            "text/plain": [
              "True"
            ]
          },
          "metadata": {},
          "execution_count": 2
        }
      ]
    },
    {
      "cell_type": "code",
      "source": [
        ""
      ],
      "metadata": {
        "id": "jcBNHHfU8OeR"
      },
      "execution_count": null,
      "outputs": []
    }
  ]
}